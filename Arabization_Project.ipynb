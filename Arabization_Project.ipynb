{
 "cells": [
  {
   "cell_type": "code",
   "execution_count": 16,
   "id": "37ce3ddd",
   "metadata": {},
   "outputs": [],
   "source": [
    "import numpy as np\n",
    "import pandas as pd\n",
    "from sklearn.feature_extraction.text import TfidfVectorizer\n",
    "from sklearn.feature_extraction.text import CountVectorizer\n",
    "from sklearn.model_selection import train_test_split\n",
    "from sklearn.naive_bayes import MultinomialNB\n",
    "from sklearn.metrics import accuracy_score\n",
    "from sklearn.metrics import confusion_matrix"
   ]
  },
  {
   "cell_type": "code",
   "execution_count": 17,
   "id": "1b0f6d81",
   "metadata": {},
   "outputs": [
    {
     "data": {
      "text/html": [
       "<div>\n",
       "<style scoped>\n",
       "    .dataframe tbody tr th:only-of-type {\n",
       "        vertical-align: middle;\n",
       "    }\n",
       "\n",
       "    .dataframe tbody tr th {\n",
       "        vertical-align: top;\n",
       "    }\n",
       "\n",
       "    .dataframe thead th {\n",
       "        text-align: right;\n",
       "    }\n",
       "</style>\n",
       "<table border=\"1\" class=\"dataframe\">\n",
       "  <thead>\n",
       "    <tr style=\"text-align: right;\">\n",
       "      <th></th>\n",
       "      <th>text</th>\n",
       "      <th>label</th>\n",
       "    </tr>\n",
       "  </thead>\n",
       "  <tbody>\n",
       "    <tr>\n",
       "      <th>0</th>\n",
       "      <td>سحبت شركة غوغل في خطوة مفاجئة خدمة يوتيوب الشه...</td>\n",
       "      <td>Tech</td>\n",
       "    </tr>\n",
       "    <tr>\n",
       "      <th>1</th>\n",
       "      <td>عاد لاعب باريس سان جيرمان  البرازيلي نيمار دا ...</td>\n",
       "      <td>Sports</td>\n",
       "    </tr>\n",
       "    <tr>\n",
       "      <th>2</th>\n",
       "      <td>أخبارنا المغربية ـ متابعة   في أول رد للبرلمان...</td>\n",
       "      <td>Politics</td>\n",
       "    </tr>\n",
       "    <tr>\n",
       "      <th>3</th>\n",
       "      <td>شيرين تتهرب من المؤتمر الصحفي لمهرجان تطوان و ...</td>\n",
       "      <td>Culture</td>\n",
       "    </tr>\n",
       "    <tr>\n",
       "      <th>4</th>\n",
       "      <td>منظمو أولمبياد طوكيو 2020 يطالبون بالتبرع باله...</td>\n",
       "      <td>Sports</td>\n",
       "    </tr>\n",
       "  </tbody>\n",
       "</table>\n",
       "</div>"
      ],
      "text/plain": [
       "                                                text     label\n",
       "0  سحبت شركة غوغل في خطوة مفاجئة خدمة يوتيوب الشه...      Tech\n",
       "1  عاد لاعب باريس سان جيرمان  البرازيلي نيمار دا ...    Sports\n",
       "2  أخبارنا المغربية ـ متابعة   في أول رد للبرلمان...  Politics\n",
       "3  شيرين تتهرب من المؤتمر الصحفي لمهرجان تطوان و ...   Culture\n",
       "4  منظمو أولمبياد طوكيو 2020 يطالبون بالتبرع باله...    Sports"
      ]
     },
     "execution_count": 17,
     "metadata": {},
     "output_type": "execute_result"
    }
   ],
   "source": [
    "df=pd.read_csv('D:/all_topics.csv',encoding='utf-8')\n",
    "df.head()"
   ]
  },
  {
   "cell_type": "code",
   "execution_count": 18,
   "id": "cd671b4b",
   "metadata": {},
   "outputs": [],
   "source": [
    "#preprocessing steps (Normalization of data)\n",
    "def normalization(txt):\n",
    "    #Tokenization\n",
    "    tokenText = txt.split(' ')\n",
    "    \n",
    "    #StopWord Removing\n",
    "    SWList = []\n",
    "    stopWordList = open(r\"D:/New/stopwords.txt\" , encoding='utf-8').read().splitlines()\n",
    "    for token in tokenText:\n",
    "        if token not in stopWordList:\n",
    "            SWList.append(token)\n",
    "    SWText = ' '.join(SWList)\n",
    "    \n",
    "    # Punctuations Removing\n",
    "    import unicodedata as ud\n",
    "    puncText = ''.join(c for c in SWText if not ud.category(c).startswith('P'))\n",
    "    \n",
    "    # ISRI Stemmer (Root-based stemmer)\n",
    "    import nltk\n",
    "    st = nltk.ISRIStemmer()\n",
    "    tkText = puncText.split(' ')\n",
    "    result = ' '.join([st.stem(w) for w in tkText])\n",
    "    \n",
    "    return result"
   ]
  },
  {
   "cell_type": "code",
   "execution_count": 19,
   "id": "781d4447",
   "metadata": {},
   "outputs": [
    {
     "data": {
      "text/html": [
       "<div>\n",
       "<style scoped>\n",
       "    .dataframe tbody tr th:only-of-type {\n",
       "        vertical-align: middle;\n",
       "    }\n",
       "\n",
       "    .dataframe tbody tr th {\n",
       "        vertical-align: top;\n",
       "    }\n",
       "\n",
       "    .dataframe thead th {\n",
       "        text-align: right;\n",
       "    }\n",
       "</style>\n",
       "<table border=\"1\" class=\"dataframe\">\n",
       "  <thead>\n",
       "    <tr style=\"text-align: right;\">\n",
       "      <th></th>\n",
       "      <th>text</th>\n",
       "      <th>label</th>\n",
       "    </tr>\n",
       "  </thead>\n",
       "  <tbody>\n",
       "    <tr>\n",
       "      <th>0</th>\n",
       "      <td>سحبت شركة غوغل في خطوة مفاجئة خدمة يوتيوب الشه...</td>\n",
       "      <td>Tech</td>\n",
       "    </tr>\n",
       "    <tr>\n",
       "      <th>1</th>\n",
       "      <td>عاد لاعب باريس سان جيرمان  البرازيلي نيمار دا ...</td>\n",
       "      <td>Sports</td>\n",
       "    </tr>\n",
       "    <tr>\n",
       "      <th>2</th>\n",
       "      <td>أخبارنا المغربية ـ متابعة   في أول رد للبرلمان...</td>\n",
       "      <td>Politics</td>\n",
       "    </tr>\n",
       "    <tr>\n",
       "      <th>3</th>\n",
       "      <td>شيرين تتهرب من المؤتمر الصحفي لمهرجان تطوان و ...</td>\n",
       "      <td>Culture</td>\n",
       "    </tr>\n",
       "    <tr>\n",
       "      <th>4</th>\n",
       "      <td>منظمو أولمبياد طوكيو 2020 يطالبون بالتبرع باله...</td>\n",
       "      <td>Sports</td>\n",
       "    </tr>\n",
       "  </tbody>\n",
       "</table>\n",
       "</div>"
      ],
      "text/plain": [
       "                                                text     label\n",
       "0  سحبت شركة غوغل في خطوة مفاجئة خدمة يوتيوب الشه...      Tech\n",
       "1  عاد لاعب باريس سان جيرمان  البرازيلي نيمار دا ...    Sports\n",
       "2  أخبارنا المغربية ـ متابعة   في أول رد للبرلمان...  Politics\n",
       "3  شيرين تتهرب من المؤتمر الصحفي لمهرجان تطوان و ...   Culture\n",
       "4  منظمو أولمبياد طوكيو 2020 يطالبون بالتبرع باله...    Sports"
      ]
     },
     "execution_count": 19,
     "metadata": {},
     "output_type": "execute_result"
    }
   ],
   "source": [
    "df['text'].apply(normalization)\n",
    "df.head()"
   ]
  },
  {
   "cell_type": "code",
   "execution_count": null,
   "id": "1bce5665",
   "metadata": {},
   "outputs": [],
   "source": [
    "#Feature Extraction"
   ]
  },
  {
   "cell_type": "code",
   "execution_count": 20,
   "id": "71dc0da1",
   "metadata": {},
   "outputs": [],
   "source": [
    "# Features Extraction by TF-IDF\n",
    "tfidf_vec=TfidfVectorizer()\n",
    "tfidf_features=tfidf_vec.fit_transform(df['text'])\n",
    "\n",
    "#split data into train and test\n",
    "x_train,x_test,y_train,y_test=train_test_split(tfidf_features,df['label'],test_size=0.2)"
   ]
  },
  {
   "cell_type": "code",
   "execution_count": 21,
   "id": "2909b06b",
   "metadata": {},
   "outputs": [
    {
     "name": "stdout",
     "output_type": "stream",
     "text": [
      "(62742, 466853)\n",
      "(15686, 466853)\n"
     ]
    }
   ],
   "source": [
    "print(x_train.shape)\n",
    "print(x_test.shape)"
   ]
  },
  {
   "cell_type": "code",
   "execution_count": 22,
   "id": "019f972c",
   "metadata": {},
   "outputs": [
    {
     "data": {
      "text/plain": [
       "MultinomialNB()"
      ]
     },
     "execution_count": 22,
     "metadata": {},
     "output_type": "execute_result"
    }
   ],
   "source": [
    "# classifier\n",
    "tfidf_model=MultinomialNB()\n",
    "tfidf_model.fit(x_train,y_train)"
   ]
  },
  {
   "cell_type": "code",
   "execution_count": 23,
   "id": "922f1bbd",
   "metadata": {},
   "outputs": [
    {
     "data": {
      "text/plain": [
       "0.8760678311870458"
      ]
     },
     "execution_count": 23,
     "metadata": {},
     "output_type": "execute_result"
    }
   ],
   "source": [
    "#Testing data\n",
    "tfidf_predected=tfidf_model.predict(x_test)\n",
    "\n",
    "accuracy_score(y_test, tfidf_predected)"
   ]
  },
  {
   "cell_type": "code",
   "execution_count": 24,
   "id": "09172a1e",
   "metadata": {},
   "outputs": [
    {
     "name": "stdout",
     "output_type": "stream",
     "text": [
      "[[ 528   15   17  587    1  140   41]\n",
      " [   2 1163   12  581    1   23   33]\n",
      " [   0    6 2533    8    3    1   43]\n",
      " [   0   43    5 2737    0    7    3]\n",
      " [   0    1   43   94 1406   17   11]\n",
      " [   0    1    2   49    2 3028    3]\n",
      " [   1    5  103   33    0    7 2347]]\n"
     ]
    }
   ],
   "source": [
    "cm = confusion_matrix(y_test,tfidf_predected)\n",
    "print(cm)"
   ]
  },
  {
   "cell_type": "code",
   "execution_count": 26,
   "id": "fe1e5615",
   "metadata": {},
   "outputs": [],
   "source": [
    "# Features Extraction by Binary Encoding\n",
    "binary_vec=CountVectorizer(binary=True)\n",
    "binary_features=binary_vec.fit_transform(df['text'])\n",
    "\n",
    "#split data into train and test\n",
    "x_train,x_test,y_train,y_test=train_test_split(binary_features,df['label'],test_size=0.2)"
   ]
  },
  {
   "cell_type": "code",
   "execution_count": 27,
   "id": "485125b3",
   "metadata": {},
   "outputs": [
    {
     "data": {
      "text/plain": [
       "MultinomialNB()"
      ]
     },
     "execution_count": 27,
     "metadata": {},
     "output_type": "execute_result"
    }
   ],
   "source": [
    "# classefier\n",
    "binary_model=MultinomialNB()\n",
    "binary_model.fit(x_train,y_train)"
   ]
  },
  {
   "cell_type": "code",
   "execution_count": 28,
   "id": "d7993b20",
   "metadata": {},
   "outputs": [
    {
     "data": {
      "text/plain": [
       "0.9257937013897743"
      ]
     },
     "execution_count": 28,
     "metadata": {},
     "output_type": "execute_result"
    }
   ],
   "source": [
    "# testing data\n",
    "binary_predicted=binary_model.predict(x_test)\n",
    "accuracy_score(y_test, binary_predicted)"
   ]
  },
  {
   "cell_type": "code",
   "execution_count": 29,
   "id": "6a150dda",
   "metadata": {},
   "outputs": [
    {
     "name": "stdout",
     "output_type": "stream",
     "text": [
      "[[1140   12    0   18   26   16   11]\n",
      " [  41 1496   18  126    3   15   20]\n",
      " [   8    6 2521    3   25    3   90]\n",
      " [ 158  266    3 2602   34   69   10]\n",
      " [   9    1    4    3 1385    1    3]\n",
      " [  25   11    3    3    9 3095    5]\n",
      " [  18   23   50    1    8    6 2283]]\n"
     ]
    }
   ],
   "source": [
    "print(confusion_matrix(binary_predicted,y_test))"
   ]
  },
  {
   "cell_type": "code",
   "execution_count": 30,
   "id": "16857e1e",
   "metadata": {},
   "outputs": [],
   "source": [
    "# Features Extraction by Counting\n",
    "count_vec=CountVectorizer()\n",
    "count_features=count_vec.fit_transform(df['text'])\n",
    "\n",
    "#split data into train and test\n",
    "x_train,x_test,y_train,y_test=train_test_split(count_features,df['label'],test_size=0.2)"
   ]
  },
  {
   "cell_type": "code",
   "execution_count": 31,
   "id": "a6d3b486",
   "metadata": {},
   "outputs": [
    {
     "data": {
      "text/plain": [
       "MultinomialNB()"
      ]
     },
     "execution_count": 31,
     "metadata": {},
     "output_type": "execute_result"
    }
   ],
   "source": [
    "# classefier\n",
    "count_model=MultinomialNB()\n",
    "count_model.fit(x_train,y_train)"
   ]
  },
  {
   "cell_type": "code",
   "execution_count": 32,
   "id": "cc98a818",
   "metadata": {},
   "outputs": [
    {
     "data": {
      "text/plain": [
       "0.9264949636618641"
      ]
     },
     "execution_count": 32,
     "metadata": {},
     "output_type": "execute_result"
    }
   ],
   "source": [
    "count_predicted=count_model.predict(x_test)\n",
    "accuracy_score(y_test, count_predicted)"
   ]
  },
  {
   "cell_type": "code",
   "execution_count": 33,
   "id": "28073eea",
   "metadata": {},
   "outputs": [
    {
     "name": "stdout",
     "output_type": "stream",
     "text": [
      "[[1115   13    6   19   22   16    9]\n",
      " [  44 1555   15  162    4   12   36]\n",
      " [   8    5 2500    0   18    5   93]\n",
      " [ 125  299    8 2576   23   38    9]\n",
      " [   5    0    5    4 1447    1    2]\n",
      " [  24   11    5    5    8 3113    2]\n",
      " [  21   10   49    3    3    6 2227]]\n"
     ]
    }
   ],
   "source": [
    "print(confusion_matrix(count_predicted,y_test))"
   ]
  },
  {
   "cell_type": "code",
   "execution_count": 34,
   "id": "082bf863",
   "metadata": {},
   "outputs": [],
   "source": [
    "#The Best Way of Feature Extraction  For Topic Classification is Counting"
   ]
  },
  {
   "cell_type": "code",
   "execution_count": null,
   "id": "3db27485",
   "metadata": {},
   "outputs": [],
   "source": []
  },
  {
   "cell_type": "code",
   "execution_count": null,
   "id": "070121a6",
   "metadata": {},
   "outputs": [],
   "source": []
  },
  {
   "cell_type": "code",
   "execution_count": null,
   "id": "524be863",
   "metadata": {},
   "outputs": [],
   "source": []
  },
  {
   "cell_type": "code",
   "execution_count": null,
   "id": "72ce6b31",
   "metadata": {},
   "outputs": [],
   "source": []
  },
  {
   "cell_type": "code",
   "execution_count": null,
   "id": "57fbbb04",
   "metadata": {},
   "outputs": [],
   "source": []
  },
  {
   "cell_type": "code",
   "execution_count": null,
   "id": "a1f72b3a",
   "metadata": {},
   "outputs": [],
   "source": []
  },
  {
   "cell_type": "code",
   "execution_count": null,
   "id": "ec3d3f5a",
   "metadata": {},
   "outputs": [],
   "source": []
  },
  {
   "cell_type": "code",
   "execution_count": null,
   "id": "989c8167",
   "metadata": {},
   "outputs": [],
   "source": []
  },
  {
   "cell_type": "code",
   "execution_count": null,
   "id": "346af73b",
   "metadata": {},
   "outputs": [],
   "source": []
  },
  {
   "cell_type": "code",
   "execution_count": null,
   "id": "2d590a11",
   "metadata": {},
   "outputs": [],
   "source": []
  },
  {
   "cell_type": "code",
   "execution_count": null,
   "id": "16d41cb1",
   "metadata": {},
   "outputs": [],
   "source": []
  },
  {
   "cell_type": "code",
   "execution_count": null,
   "id": "7c5193ef",
   "metadata": {},
   "outputs": [],
   "source": []
  },
  {
   "cell_type": "code",
   "execution_count": null,
   "id": "0b3db69b",
   "metadata": {},
   "outputs": [],
   "source": []
  },
  {
   "cell_type": "code",
   "execution_count": null,
   "id": "94b70684",
   "metadata": {},
   "outputs": [],
   "source": []
  },
  {
   "cell_type": "code",
   "execution_count": null,
   "id": "7cf3c3f0",
   "metadata": {},
   "outputs": [],
   "source": []
  },
  {
   "cell_type": "code",
   "execution_count": 13,
   "id": "dd0d84e9",
   "metadata": {},
   "outputs": [],
   "source": [
    "def remove_stopwords(text):\n",
    "    file=open('D:/New/stopwords.txt','r',encoding='utf-8')\n",
    "    ss=file.read()\n",
    "    stop_words=ss.split()\n",
    "    results=[]\n",
    "    for word in text.split():\n",
    "        if word not in stop_words:\n",
    "            results.append(word)\n",
    "    return \" \".join(results)"
   ]
  },
  {
   "cell_type": "code",
   "execution_count": 8,
   "id": "9ba5b25b",
   "metadata": {},
   "outputs": [],
   "source": []
  },
  {
   "cell_type": "code",
   "execution_count": 9,
   "id": "5afc73a2",
   "metadata": {},
   "outputs": [],
   "source": []
  },
  {
   "cell_type": "code",
   "execution_count": 10,
   "id": "cf9ff464",
   "metadata": {},
   "outputs": [],
   "source": []
  },
  {
   "cell_type": "code",
   "execution_count": null,
   "id": "46d8e8fe",
   "metadata": {},
   "outputs": [],
   "source": []
  },
  {
   "cell_type": "code",
   "execution_count": null,
   "id": "5489adff",
   "metadata": {},
   "outputs": [],
   "source": []
  },
  {
   "cell_type": "code",
   "execution_count": null,
   "id": "0125162e",
   "metadata": {},
   "outputs": [],
   "source": []
  },
  {
   "cell_type": "code",
   "execution_count": null,
   "id": "2444338c",
   "metadata": {},
   "outputs": [],
   "source": []
  },
  {
   "cell_type": "code",
   "execution_count": null,
   "id": "c67cad81",
   "metadata": {},
   "outputs": [],
   "source": []
  },
  {
   "cell_type": "code",
   "execution_count": null,
   "id": "0cfa5cc8",
   "metadata": {},
   "outputs": [],
   "source": []
  },
  {
   "cell_type": "code",
   "execution_count": null,
   "id": "1c849d6e",
   "metadata": {},
   "outputs": [],
   "source": []
  }
 ],
 "metadata": {
  "kernelspec": {
   "display_name": "Python 3",
   "language": "python",
   "name": "python3"
  },
  "language_info": {
   "codemirror_mode": {
    "name": "ipython",
    "version": 3
   },
   "file_extension": ".py",
   "mimetype": "text/x-python",
   "name": "python",
   "nbconvert_exporter": "python",
   "pygments_lexer": "ipython3",
   "version": "3.8.8"
  }
 },
 "nbformat": 4,
 "nbformat_minor": 5
}
